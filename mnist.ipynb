{
 "cells": [
  {
   "cell_type": "code",
   "execution_count": null,
   "id": "11de0ca7",
   "metadata": {},
   "outputs": [],
   "source": [
    "import numpy as np\n",
    "from sklearn.datasets import fetch_openml\n",
    "mnist = fetch_openml(mnist_784)"
   ]
  }
 ],
 "metadata": {
  "kernelspec": {
   "display_name": "Python 3.9.7 64-bit ('machine': conda)",
   "language": "python",
   "name": "python397jvsc74a57bd0ec099436588aa1f79fd3092d84780bfcdd2cc38186f0ca07446b642ea8c90035"
  },
  "language_info": {
   "codemirror_mode": {
    "name": "ipython",
    "version": 3
   },
   "file_extension": ".py",
   "mimetype": "text/x-python",
   "name": "python",
   "nbconvert_exporter": "python",
   "pygments_lexer": "ipython3",
   "version": "3.9.7"
  }
 },
 "nbformat": 4,
 "nbformat_minor": 5
}
